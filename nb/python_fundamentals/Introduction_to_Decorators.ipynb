{
 "cells": [
  {
   "cell_type": "markdown",
   "id": "a9df1bec",
   "metadata": {},
   "source": [
    "## Introduction to Decorators\n",
    "\n",
    "- Decorators are essentially functions that take another function as input to add additional logic that's reusable to any function.\n",
    "\n",
    "- Some examples that are very useful:\n",
    "\n",
    "    - Speeding up compilation time of Python (``numba`` module)\n",
    "    - Viewing the time it takes for a function to finish executing.\n",
    "    - Developing a spinner or progress bar for a specific task that takes time to load.\n",
    "\n",
    "\n",
    "### Agenda\n",
    "\n",
    "1. Functions as Input to Other Functions\n",
    "\n",
    "2. Closure Design Pattern\n",
    "\n",
    "3. Decorator Syntax"
   ]
  },
  {
   "cell_type": "markdown",
   "id": "d167977d",
   "metadata": {},
   "source": [
    "### 1. Functions as Input to Other Functions"
   ]
  },
  {
   "cell_type": "code",
   "execution_count": 13,
   "id": "4e5cd3d2",
   "metadata": {},
   "outputs": [
    {
     "data": {
      "text/plain": [
       "'Hello!'"
      ]
     },
     "execution_count": 13,
     "metadata": {},
     "output_type": "execute_result"
    }
   ],
   "source": [
    "# Functions can become the input to another function\n",
    "\n",
    "def execute(func):\n",
    "    return func\n",
    "\n",
    "def greet():\n",
    "    return \"Hello!\"\n",
    "\n",
    "execute(greet)()"
   ]
  },
  {
   "cell_type": "markdown",
   "id": "9442e92c",
   "metadata": {},
   "source": [
    "### 2. Closure Design Pattern"
   ]
  },
  {
   "cell_type": "code",
   "execution_count": 15,
   "id": "ebfece96",
   "metadata": {},
   "outputs": [
    {
     "name": "stdout",
     "output_type": "stream",
     "text": [
      "I'm returning the function: <function greet at 0x7fcda8189bf8>\n",
      "Hello!\n",
      "The function has been returned\n"
     ]
    },
    {
     "data": {
      "text/plain": [
       "str"
      ]
     },
     "execution_count": 15,
     "metadata": {},
     "output_type": "execute_result"
    }
   ],
   "source": [
    "# Example of a Closure Function\n",
    "\n",
    "def outer(func):\n",
    "    def inner():\n",
    "        print(f\"I'm returning the function: {func}\")\n",
    "        print(func())\n",
    "        print(\"The function has been returned\")\n",
    "        return func()\n",
    "    return inner\n",
    "\n",
    "type(outer(greet)())"
   ]
  },
  {
   "cell_type": "markdown",
   "id": "2750e0d3",
   "metadata": {},
   "source": [
    "### 3. Decorator Syntax"
   ]
  },
  {
   "cell_type": "code",
   "execution_count": 27,
   "id": "9a788396",
   "metadata": {},
   "outputs": [
    {
     "name": "stdout",
     "output_type": "stream",
     "text": [
      "I'm returning the function: <function print_me at 0x7fcda8189e18>\n",
      "Print me. I am a log!\n",
      "None\n",
      "The function has been returned\n"
     ]
    }
   ],
   "source": [
    "def execution_logger(func):\n",
    "    def inner(*args):\n",
    "        print(f\"I'm returning the function: {func}\")\n",
    "        result = func(*args)\n",
    "        print(result)\n",
    "        print(\"The function has been returned\")\n",
    "        return result\n",
    "    return inner\n",
    "\n",
    "# Decorator Syntax\n",
    "\n",
    "@execution_logger\n",
    "def print_me():\n",
    "    print(\"Print me. I am a log!\")\n",
    "    \n",
    "print_me()"
   ]
  },
  {
   "cell_type": "code",
   "execution_count": 28,
   "id": "77a51c9c",
   "metadata": {},
   "outputs": [
    {
     "name": "stdout",
     "output_type": "stream",
     "text": [
      "I'm returning the function: <function add at 0x7fcda0cc08c8>\n",
      "12\n",
      "The function has been returned\n"
     ]
    }
   ],
   "source": [
    "@execution_logger\n",
    "def add(a, b):\n",
    "    return a + b\n",
    "\n",
    "simple_sum = add(5,7)"
   ]
  },
  {
   "cell_type": "code",
   "execution_count": 29,
   "id": "61d8b591",
   "metadata": {},
   "outputs": [
    {
     "data": {
      "text/plain": [
       "12"
      ]
     },
     "execution_count": 29,
     "metadata": {},
     "output_type": "execute_result"
    }
   ],
   "source": [
    "simple_sum"
   ]
  },
  {
   "cell_type": "markdown",
   "id": "c48047ed",
   "metadata": {},
   "source": [
    "### 4. Decorator for Recording Execution Time\n",
    "\n",
    "- The function should be able to execute a function and tell you how long it takes for the function to finish executing.\n",
    "\n",
    "In order to do this effectively, you'd need a module that can help you with recording the current time. The way you can do this is by using the ``datetime`` module.\n",
    "\n",
    "```python\n",
    "# Get current time and date\n",
    "now = datetime.datetime.now()\n",
    "print(now)\n",
    "```"
   ]
  },
  {
   "cell_type": "code",
   "execution_count": 36,
   "id": "91d47e89",
   "metadata": {},
   "outputs": [
    {
     "name": "stdout",
     "output_type": "stream",
     "text": [
      "2022-10-29 11:24:03.722918\n"
     ]
    }
   ],
   "source": [
    "# Import the now() method\n",
    "from datetime import datetime\n",
    "\n",
    "def now():\n",
    "    return datetime.now()\n",
    "\n",
    "now_2 = now()\n",
    "\n",
    "print(now_2)"
   ]
  },
  {
   "cell_type": "code",
   "execution_count": 39,
   "id": "de6df0e6",
   "metadata": {},
   "outputs": [],
   "source": [
    "# Create a decorator that will record how long it takes for a function to finish running\n",
    "def execution_time(func):\n",
    "    def context(*args):\n",
    "        # Calculate the start time\n",
    "        start = now()\n",
    "        func(*args)\n",
    "        end = now()\n",
    "        print(f\"Your function {func} took {end - start} time units to finish running.\")\n",
    "    return context"
   ]
  },
  {
   "cell_type": "code",
   "execution_count": 44,
   "id": "8f60cbec",
   "metadata": {},
   "outputs": [
    {
     "name": "stdout",
     "output_type": "stream",
     "text": [
      "Your function <function iterative_subtract at 0x7fcdd8222510> took 0:00:05.461072 time units to finish running.\n"
     ]
    }
   ],
   "source": [
    "@execution_time\n",
    "def iterative_subtract(n, a, b):\n",
    "    for i in range(n):\n",
    "        result = b - a\n",
    "    return result\n",
    "\n",
    "iterative_subtract(100000000, 4, 5)"
   ]
  },
  {
   "cell_type": "code",
   "execution_count": null,
   "id": "ed787805",
   "metadata": {},
   "outputs": [],
   "source": []
  }
 ],
 "metadata": {
  "kernelspec": {
   "display_name": "chanr_community",
   "language": "python",
   "name": "chanr_community"
  },
  "language_info": {
   "codemirror_mode": {
    "name": "ipython",
    "version": 3
   },
   "file_extension": ".py",
   "mimetype": "text/x-python",
   "name": "python",
   "nbconvert_exporter": "python",
   "pygments_lexer": "ipython3",
   "version": "3.6.9"
  }
 },
 "nbformat": 4,
 "nbformat_minor": 5
}
