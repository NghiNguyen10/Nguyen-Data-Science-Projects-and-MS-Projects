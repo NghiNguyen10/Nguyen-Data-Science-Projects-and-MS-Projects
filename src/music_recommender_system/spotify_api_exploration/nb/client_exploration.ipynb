{
 "cells": [
  {
   "cell_type": "markdown",
   "metadata": {},
   "source": [
    "## Spotify Python Client Exploration\n",
    "\n",
    "### Description\n",
    "\n",
    "In this notebook, we are going to be exploring the Python client for Spotify leveraging Spotify Developer's REST API.\n",
    "\n",
    "In particular, we are going to authenticate via the `oauth2` endpoint which leverages the `client_id` and `client_secret` provisioned to an end user on Spotify Developer's Dashboard within a new project.\n",
    "\n",
    "We're also going to leverage a Spotify artist's uniform resource identifier (URI) in order to query the REST API and retrieve all the albums associated with that specific Spotify artist.\n",
    "\n",
    "After doing so, we will then take a look at the `results` and essentially create some logic to clean the results for analytics purposes."
   ]
  },
  {
   "cell_type": "code",
   "execution_count": 3,
   "metadata": {},
   "outputs": [],
   "source": [
    "import spotipy\n",
    "from spotipy.oauth2 import SpotifyClientCredentials\n",
    "from getpass import getpass"
   ]
  },
  {
   "cell_type": "markdown",
   "metadata": {},
   "source": [
    "### Authentication\n",
    "\n",
    "In order to authenticate to the Spotify Python client, we'll need to create a `client_id` and also a `client_secret`. We will feed these variables as input to the `SpotifyClientCredentials` constructor in order to successfully authenticate."
   ]
  },
  {
   "cell_type": "code",
   "execution_count": 4,
   "metadata": {},
   "outputs": [],
   "source": [
    "# Create the Values for Client ID and Client Secret\n",
    "client_id = input(\"Type in your Client ID: \")\n",
    "client_secret = getpass(\"Type in your Client Secret: \")\n",
    "\n",
    "# Set Up Credentials and Instantiate Client\n",
    "auth_credential_manager = SpotifyClientCredentials(\n",
    "    client_id=client_id, client_secret=client_secret)"
   ]
  },
  {
   "cell_type": "markdown",
   "metadata": {},
   "source": [
    "### Client Instantiation\n",
    "\n",
    "In order to instantiate the Python client for Spotify, we need to leverage the `spotipy.Spotify()` constructor. This constructor has an input known as `credentials_manager` which is going to be assigned to our `oauth2` based credentials manager which is stored in the variable `auth_credential_manager` ."
   ]
  },
  {
   "cell_type": "code",
   "execution_count": 5,
   "metadata": {},
   "outputs": [],
   "source": [
    "client = spotipy.Spotify(client_credentials_manager=auth_credential_manager)"
   ]
  },
  {
   "cell_type": "markdown",
   "metadata": {},
   "source": [
    "### Parsing Spotify Artist URI ID\n",
    "\n",
    "In order to get the ID required for a proper Spotify URI, we need to do some string preprocessing on the artist link that we get from the Spotify app based on a given artist.\n",
    "\n",
    "#### Algorithmic Approach\n",
    "\n",
    "1. Pass in the artist HTML link or URL as input to the `parse_artist_id()` function.\n",
    "2. We will split the input string based on the `?` which represents the aspect of the URL where a customizable parameter can be used for querying data.\n",
    "3. We want to split the first result's element at index 0 by a `/` and then extract the final string from that output.\n",
    "4. We will then create a string concatenation logic or formatted string logic that essentially takes that result and appends it to the following string: `spotify:artist:`"
   ]
  },
  {
   "cell_type": "code",
   "execution_count": 6,
   "metadata": {},
   "outputs": [],
   "source": [
    "def parse_artist_id(spotify_artist_link: str) -> str:\n",
    "    # Separate the original string by the ? in the URL\n",
    "    q_separate = spotify_artist_link.split(\"?\")[0]\n",
    "\n",
    "    # Split the q_separate by /\n",
    "    result = q_separate.split(\"/\")[-1]\n",
    "\n",
    "    return f\"spotify:artist:{result}\"\n"
   ]
  },
  {
   "cell_type": "code",
   "execution_count": 7,
   "metadata": {},
   "outputs": [
    {
     "data": {
      "text/plain": [
       "'spotify:artist:1JREmglx633MGQB73njWtE'"
      ]
     },
     "execution_count": 7,
     "metadata": {},
     "output_type": "execute_result"
    }
   ],
   "source": [
    "# Testing the Function\n",
    "parse_artist_id(\"https://open.spotify.com/artist/1JREmglx633MGQB73njWtE?si=8950fd898a2c44c6\")"
   ]
  },
  {
   "cell_type": "markdown",
   "metadata": {},
   "source": [
    "### Retrieving Album Results from Spotify Artist Link"
   ]
  },
  {
   "cell_type": "code",
   "execution_count": 15,
   "metadata": {},
   "outputs": [],
   "source": [
    "def retrieve_album_results(artist_link: str, album_type: str):\n",
    "    # Get Valid Spotify Artist URI\n",
    "    artist_uri = parse_artist_id(artist_link)\n",
    "\n",
    "    # Assign results to artist_albums() method\n",
    "    results = client.artist_albums(artist_uri, album_type=album_type)\n",
    "\n",
    "    return results"
   ]
  },
  {
   "cell_type": "markdown",
   "metadata": {},
   "source": [
    "### Testing the Retrieve Album Results Function\n",
    "\n",
    "1. Connor Price\n",
    "2. Taylor Swift\n",
    "\n",
    "\n"
   ]
  },
  {
   "cell_type": "code",
   "execution_count": 9,
   "metadata": {},
   "outputs": [],
   "source": [
    "# Connor Price's Spotify Artist Link\n",
    "cp_sa_link = \"https://open.spotify.com/artist/5zixe6AbgXPqt4c1uSl94L?si=2ea716a651834db3\"\n",
    "# Taylor Swift's Spotify Artist Link\n",
    "ts_sa_link = \"https://open.spotify.com/artist/06HL4z0CvFAxyc27GXpf02?si=20e5be7237374df0\""
   ]
  },
  {
   "cell_type": "code",
   "execution_count": 16,
   "metadata": {},
   "outputs": [],
   "source": [
    "# Connor Price's Albums as JSON Response from Spotify API\n",
    "cp_sa_results = retrieve_album_results(cp_sa_link, 'single')\n",
    "\n",
    "# Taylor Swift's Albums as JSON Resposne from Spotify API\n",
    "ts_sa_results = retrieve_album_results(ts_sa_link, 'album')"
   ]
  },
  {
   "cell_type": "markdown",
   "metadata": {},
   "source": [
    "### Result Exploration\n",
    "\n",
    "1. Understand the JSON structure of the API response.\n",
    "2. Get a list of keys that are available to us in regards to album metadata."
   ]
  },
  {
   "cell_type": "code",
   "execution_count": 17,
   "metadata": {},
   "outputs": [
    {
     "name": "stdout",
     "output_type": "stream",
     "text": [
      "Connor Price has 20 albums.\n",
      "Spotify API returns a <class 'dict'> structure.\n",
      "The items key has a structure of <class 'list'>\n"
     ]
    }
   ],
   "source": [
    "# How Many Albums Does Connor Price have?\n",
    "print(f\"Connor Price has {len(cp_sa_results['items'])} albums.\")\n",
    "\n",
    "# What data structure is given back as a response?\n",
    "print(f\"Spotify API returns a {type(cp_sa_results)} structure.\")\n",
    "\n",
    "# Find out the unique keys that exist in the dictionary\n",
    "cp_sa_results.keys()\n",
    "\n",
    "# What is the structure of the value associated with the 'items' key?\n",
    "print(f\"The items key has a structure of {type(cp_sa_results['items'])}\")\n",
    "\n"
   ]
  },
  {
   "cell_type": "markdown",
   "metadata": {},
   "source": [
    "### Extracting Data from `Items` Key in Spotify API Response"
   ]
  },
  {
   "cell_type": "code",
   "execution_count": 32,
   "metadata": {},
   "outputs": [
    {
     "name": "stdout",
     "output_type": "stream",
     "text": [
      "1\n"
     ]
    },
    {
     "data": {
      "text/plain": [
       "dict_keys(['album_group', 'album_type', 'artists', 'available_markets', 'external_urls', 'href', 'id', 'images', 'name', 'release_date', 'release_date_precision', 'total_tracks', 'type', 'uri'])"
      ]
     },
     "execution_count": 32,
     "metadata": {},
     "output_type": "execute_result"
    }
   ],
   "source": [
    "# Looking at Connor Price's items list\n",
    "sample_cp_sa_result = cp_sa_results['items'][1]\n",
    "\n",
    "print(sample_cp_sa_result['total_tracks'])\n",
    "\n",
    "# Look at keys in the sample result dictionary\n",
    "sample_cp_sa_result.keys()"
   ]
  },
  {
   "cell_type": "code",
   "execution_count": 58,
   "metadata": {},
   "outputs": [
    {
     "data": {
      "text/plain": [
       "['album_group',\n",
       " 'album_type',\n",
       " 'href',\n",
       " 'id',\n",
       " 'name',\n",
       " 'release_date',\n",
       " 'release_date_precision',\n",
       " 'type',\n",
       " 'uri']"
      ]
     },
     "execution_count": 58,
     "metadata": {},
     "output_type": "execute_result"
    }
   ],
   "source": [
    "# See Types of Values for all Keys in the Dictionary\n",
    "bool_dct_key_types = list(map(lambda k: type(sample_cp_sa_result[k]) == type(''), sample_cp_sa_result.keys()))\n",
    "\n",
    "keys = list(sample_cp_sa_result.keys())\n",
    "\n",
    "str_dct_key_types = [keys[i] for i, val in enumerate(bool_dct_key_types) if val == True]\n",
    "\n",
    "str_dct_key_types\n"
   ]
  },
  {
   "cell_type": "code",
   "execution_count": 62,
   "metadata": {},
   "outputs": [],
   "source": [
    "from functools import reduce\n",
    "\n",
    "def value_transform(dct: dict, str_keys: list):\n",
    "    # Dictionary Containing only the string keys\n",
    "    sub_dct = {k:[v] for k,v in dct.items() if k in str_keys}\n",
    "    return sub_dct\n",
    "\n",
    "def items_transform(artist_items_list: list, str_keys: list):\n",
    "    # Map Each Internal Dictionary into the Value Transform\n",
    "    transformed_items_list = list(map(lambda d: value_transform(d, str_keys), artist_items_list))\n",
    "\n",
    "    # Instantiate a New Dictionary\n",
    "    result_dict = {k: [] for k in str_keys}\n",
    "\n",
    "    # Iterate through each str_key and each item\n",
    "    for item in transformed_items_list:\n",
    "        for k, v in item.items():\n",
    "            result_dict[k].append(v)\n",
    "    \n",
    "    return {k: reduce(lambda a,b : a+b, v) for k, v in result_dict.items()}\n",
    "\n",
    "\n",
    "\n",
    "\n"
   ]
  },
  {
   "cell_type": "code",
   "execution_count": 64,
   "metadata": {},
   "outputs": [],
   "source": [
    "cp_sa_transformed_results = items_transform(cp_sa_results['items'], str_dct_key_types)"
   ]
  },
  {
   "cell_type": "code",
   "execution_count": 67,
   "metadata": {},
   "outputs": [
    {
     "data": {
      "text/plain": [
       "20"
      ]
     },
     "execution_count": 67,
     "metadata": {},
     "output_type": "execute_result"
    }
   ],
   "source": [
    "len(cp_sa_transformed_results['uri'])"
   ]
  },
  {
   "cell_type": "markdown",
   "metadata": {},
   "source": []
  }
 ],
 "metadata": {
  "kernelspec": {
   "display_name": "Python 3.8.13 ('music_recommender')",
   "language": "python",
   "name": "python3"
  },
  "language_info": {
   "codemirror_mode": {
    "name": "ipython",
    "version": 3
   },
   "file_extension": ".py",
   "mimetype": "text/x-python",
   "name": "python",
   "nbconvert_exporter": "python",
   "pygments_lexer": "ipython3",
   "version": "3.8.13"
  },
  "orig_nbformat": 4,
  "vscode": {
   "interpreter": {
    "hash": "886f038709a93222205c3e3ef4e818791f8d4724299c89970ffee516a73c7c09"
   }
  }
 },
 "nbformat": 4,
 "nbformat_minor": 2
}
